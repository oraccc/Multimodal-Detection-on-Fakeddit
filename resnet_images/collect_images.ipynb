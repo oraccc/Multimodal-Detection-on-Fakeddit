{
 "cells": [
  {
   "cell_type": "code",
   "execution_count": 1,
   "metadata": {},
   "outputs": [],
   "source": [
    "import os\n",
    "import pandas as pd\n",
    "from sklearn.utils import shuffle\n",
    "from tqdm import tqdm\n",
    "from shutil import copyfile"
   ]
  },
  {
   "cell_type": "code",
   "execution_count": 2,
   "metadata": {},
   "outputs": [],
   "source": [
    "IMAGE_BASE_DIR = \"H:/Dataset/Fakeddit/all_images/\"\n",
    "TEXT_DF_BASE_DIR = \"../data/processed_data/\"\n",
    "\n",
    "NUM_CLASSES = \"2\"\n",
    "DATASET_SIZE = \"small\"\n",
    "\n",
    "TEXT_DF_DIR = TEXT_DF_BASE_DIR + NUM_CLASSES + \"_\" + DATASET_SIZE\n",
    "\n",
    "IMAGE_SAVE_DIR = TEXT_DF_DIR + \"/images\"\n",
    "IMAGE_TRAIN_LABEL_FILE = TEXT_DF_DIR + \"/images_train_labels.txt\"\n",
    "IMAGE_TEST_LABEL_FILE = TEXT_DF_DIR + \"/images_test_labels.txt\""
   ]
  },
  {
   "cell_type": "code",
   "execution_count": 3,
   "metadata": {},
   "outputs": [],
   "source": [
    "if not os.path.exists(IMAGE_SAVE_DIR + \"/train\"):\n",
    "    os.makedirs(IMAGE_SAVE_DIR + \"/train\")\n",
    "\n",
    "if not os.path.exists(IMAGE_SAVE_DIR + \"/test\"):\n",
    "    os.makedirs(IMAGE_SAVE_DIR + \"/test\")"
   ]
  },
  {
   "cell_type": "code",
   "execution_count": 4,
   "metadata": {},
   "outputs": [],
   "source": [
    "train_data = pd.read_csv(TEXT_DF_DIR + \"/train_data.csv\")\n",
    "test_data = pd.read_csv(TEXT_DF_DIR + \"/test_data.csv\")"
   ]
  },
  {
   "cell_type": "code",
   "execution_count": 5,
   "metadata": {},
   "outputs": [],
   "source": [
    "train_data = train_data[[\"id\", NUM_CLASSES + \"_way_label\"]]\n",
    "test_data = test_data[[\"id\", NUM_CLASSES + \"_way_label\"]]"
   ]
  },
  {
   "cell_type": "code",
   "execution_count": 6,
   "metadata": {},
   "outputs": [],
   "source": [
    "train_data.rename(columns = {\"id\" : \"id\", NUM_CLASSES + \"_way_label\" : \"label\"}, inplace = True)\n",
    "test_data.rename(columns = {\"id\" : \"id\", NUM_CLASSES + \"_way_label\" : \"label\"}, inplace = True)"
   ]
  },
  {
   "cell_type": "code",
   "execution_count": 7,
   "metadata": {},
   "outputs": [],
   "source": [
    "train_data = shuffle(train_data)\n",
    "test_data = shuffle(test_data)"
   ]
  },
  {
   "cell_type": "code",
   "execution_count": 8,
   "metadata": {},
   "outputs": [
    {
     "name": "stderr",
     "output_type": "stream",
     "text": [
      "100%|██████████| 14099/14099 [17:55<00:00, 13.11it/s]\n"
     ]
    }
   ],
   "source": [
    "with open(IMAGE_TRAIN_LABEL_FILE, \"w\") as f:\n",
    "    for idx, row in tqdm(train_data.iterrows(), total = train_data.shape[0]):\n",
    "        for i in range(1, 20):\n",
    "            image_file = IMAGE_BASE_DIR + \"set_\" + str(i) + \"/\" + row[\"id\"] + \".jpg\"\n",
    "            if os.path.exists(image_file):\n",
    "                target_file = IMAGE_SAVE_DIR + \"/train/\" + row[\"id\"] + \".jpg\"\n",
    "                copyfile(image_file, target_file)\n",
    "                f.write(row[\"id\"] + \" \" + str(row[\"label\"]))\n",
    "                f.write(\"\\n\")\n",
    "                break\n",
    "            if i == 19:\n",
    "                print(row[\"id\"], \"not find\")"
   ]
  },
  {
   "cell_type": "code",
   "execution_count": 9,
   "metadata": {},
   "outputs": [
    {
     "name": "stderr",
     "output_type": "stream",
     "text": [
      "100%|██████████| 1482/1482 [01:51<00:00, 13.30it/s]\n"
     ]
    }
   ],
   "source": [
    "with open(IMAGE_TEST_LABEL_FILE, \"w\") as f:\n",
    "    for idx, row in tqdm(test_data.iterrows(), total = test_data.shape[0]):\n",
    "        for i in range(1, 20):\n",
    "            image_file = IMAGE_BASE_DIR + \"set_\" + str(i) + \"/\" + row[\"id\"] + \".jpg\"\n",
    "            if os.path.exists(image_file):\n",
    "                target_file = IMAGE_SAVE_DIR + \"/test/\" + row[\"id\"] + \".jpg\"\n",
    "                copyfile(image_file, target_file)\n",
    "                f.write(row[\"id\"] + \" \" + str(row[\"label\"]))\n",
    "                f.write(\"\\n\")\n",
    "                break\n",
    "            if i == 19:\n",
    "                print(row[\"id\"], \"not find\")"
   ]
  }
 ],
 "metadata": {
  "kernelspec": {
   "display_name": "base",
   "language": "python",
   "name": "python3"
  },
  "language_info": {
   "codemirror_mode": {
    "name": "ipython",
    "version": 3
   },
   "file_extension": ".py",
   "mimetype": "text/x-python",
   "name": "python",
   "nbconvert_exporter": "python",
   "pygments_lexer": "ipython3",
   "version": "3.7.11"
  },
  "orig_nbformat": 4
 },
 "nbformat": 4,
 "nbformat_minor": 2
}
