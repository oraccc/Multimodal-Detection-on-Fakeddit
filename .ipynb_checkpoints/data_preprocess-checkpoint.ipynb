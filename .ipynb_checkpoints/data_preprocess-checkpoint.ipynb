{
 "cells": [
  {
   "cell_type": "markdown",
   "id": "07eece42",
   "metadata": {},
   "source": [
    "### Merge Title and Comments"
   ]
  },
  {
   "cell_type": "code",
   "execution_count": 1,
   "id": "6e61e551",
   "metadata": {},
   "outputs": [],
   "source": [
    "import pandas as pd\n",
    "from tqdm import tqdm"
   ]
  },
  {
   "cell_type": "code",
   "execution_count": 2,
   "id": "8b9311e5",
   "metadata": {},
   "outputs": [],
   "source": [
    "train_data = pd.read_csv(\"./data/text_metadata/multimodal_only_samples/multimodal_train.tsv\", sep='\\t')\n",
    "test_data = pd.read_csv(\"./data/text_metadata/multimodal_only_samples/multimodal_test_public.tsv\", sep='\\t')"
   ]
  },
  {
   "cell_type": "code",
   "execution_count": 3,
   "id": "c094a332",
   "metadata": {},
   "outputs": [],
   "source": [
    "# train_data.head(5)"
   ]
  },
  {
   "cell_type": "code",
   "execution_count": 4,
   "id": "47a75244",
   "metadata": {},
   "outputs": [],
   "source": [
    "train_data_selected = train_data[[\"clean_title\", \"id\", \"image_url\", \"2_way_label\", \"3_way_label\", \"6_way_label\"]]\n",
    "test_data_selected = test_data[[\"clean_title\", \"id\", \"image_url\", \"2_way_label\", \"3_way_label\", \"6_way_label\"]]"
   ]
  },
  {
   "cell_type": "code",
   "execution_count": 7,
   "id": "08e44fa7",
   "metadata": {},
   "outputs": [
    {
     "name": "stderr",
     "output_type": "stream",
     "text": [
      "/tmp/ipykernel_138870/4234283532.py:1: DtypeWarning: Columns (0,1,2,3,4,5,6) have mixed types. Specify dtype option on import or set low_memory=False.\n",
      "  comments_data = pd.read_csv(\"./data/comments/all_comments.tsv\", sep='\\t')\n"
     ]
    }
   ],
   "source": [
    "comments_data = pd.read_csv(\"./data/comments/all_comments.tsv\", sep='\\t')"
   ]
  },
  {
   "cell_type": "code",
   "execution_count": 8,
   "id": "0fe35c6b",
   "metadata": {},
   "outputs": [],
   "source": [
    "comments_data = comments_data[[\"body\", \"submission_id\"]]"
   ]
  },
  {
   "cell_type": "code",
   "execution_count": 9,
   "id": "c6bb9ae7",
   "metadata": {},
   "outputs": [],
   "source": [
    "def search_comments(key):\n",
    "    comments_list = []\n",
    "    result = comments_data.loc[comments_data.submission_id == key]\n",
    "    if not result.empty:\n",
    "        for idx, row in result.iterrows():\n",
    "            comments_list.append(row.body)\n",
    "    return comments_list"
   ]
  },
  {
   "cell_type": "markdown",
   "id": "3dcf8088",
   "metadata": {},
   "source": [
    "#### 2_way_label small dataset"
   ]
  },
  {
   "cell_type": "code",
   "execution_count": 5,
   "id": "101d3c8e",
   "metadata": {},
   "outputs": [],
   "source": [
    "top_negative_train_data = train_data_selected[train_data_selected[\"2_way_label\"] == 0].head(2500)\n",
    "top_postive_train_data = train_data_selected[train_data_selected[\"2_way_label\"] == 1].head(2500)\n",
    "train_data_small_2_classes = pd.concat([top_negative_train_data, top_postive_train_data])"
   ]
  },
  {
   "cell_type": "code",
   "execution_count": 6,
   "id": "8f02ac08",
   "metadata": {},
   "outputs": [],
   "source": [
    "top_negative_test_data = test_data_selected[test_data_selected[\"2_way_label\"] == 0].head(500)\n",
    "top_postive_test_data = test_data_selected[test_data_selected[\"2_way_label\"] == 1].head(500)\n",
    "test_data_small_2_classes = pd.concat([top_negative_test_data, top_postive_test_data])"
   ]
  },
  {
   "cell_type": "code",
   "execution_count": 10,
   "id": "851b69bd",
   "metadata": {},
   "outputs": [],
   "source": [
    "train_csv_list = []\n",
    "test_csv_list = []\n",
    "title = [\"id\", \"text_comments\", \"text_only\", \"comments_only\", \"2_way_label\"]\n",
    "base_dir = \"./data/processed_data/2_classes_small/\""
   ]
  },
  {
   "cell_type": "code",
   "execution_count": 15,
   "id": "eb3fea51",
   "metadata": {},
   "outputs": [
    {
     "name": "stderr",
     "output_type": "stream",
     "text": [
      "100%|███████████████████████████████████████████████████████████████████████████████████████████████| 5000/5000 [44:32<00:00,  1.87it/s]\n"
     ]
    }
   ],
   "source": [
    "progress_bar = tqdm(train_data_small_2_classes.iterrows(), total = len(train_data_small_2_classes))\n",
    "for idx, row in progress_bar:\n",
    "    comments_only = \"\"\n",
    "    text_comments = \"\"\n",
    "    text_comments += row[\"clean_title\"]\n",
    "    text_comments += \"[SEP]\"\n",
    "    comments_list = search_comments(row[\"id\"])\n",
    "    for each_comment in comments_list:\n",
    "        comments_only += str(each_comment)\n",
    "        comments_only += \"[SEP]\"\n",
    "        text_comments += str(each_comment)\n",
    "        text_comments += \"[SEP]\"\n",
    "        \n",
    "    single_list = [row[\"id\"], text_comments, row[\"clean_title\"], comments_only, row[\"2_way_label\"]]\n",
    "    train_csv_list.append(single_list)"
   ]
  },
  {
   "cell_type": "code",
   "execution_count": 16,
   "id": "6479dd65",
   "metadata": {},
   "outputs": [],
   "source": [
    "train_csv_file = pd.DataFrame(columns = title, data = train_csv_list)\n",
    "train_csv_file.to_csv(base_dir + \"train_data_small_2_classes.csv\")"
   ]
  },
  {
   "cell_type": "code",
   "execution_count": 17,
   "id": "5cfed13d",
   "metadata": {},
   "outputs": [
    {
     "data": {
      "text/html": [
       "<div>\n",
       "<style scoped>\n",
       "    .dataframe tbody tr th:only-of-type {\n",
       "        vertical-align: middle;\n",
       "    }\n",
       "\n",
       "    .dataframe tbody tr th {\n",
       "        vertical-align: top;\n",
       "    }\n",
       "\n",
       "    .dataframe thead th {\n",
       "        text-align: right;\n",
       "    }\n",
       "</style>\n",
       "<table border=\"1\" class=\"dataframe\">\n",
       "  <thead>\n",
       "    <tr style=\"text-align: right;\">\n",
       "      <th></th>\n",
       "      <th>id</th>\n",
       "      <th>text_comments</th>\n",
       "      <th>text_only</th>\n",
       "      <th>comments_only</th>\n",
       "      <th>2_way_label</th>\n",
       "    </tr>\n",
       "  </thead>\n",
       "  <tbody>\n",
       "    <tr>\n",
       "      <th>0</th>\n",
       "      <td>98pbid</td>\n",
       "      <td>this concerned sink with a tiny hat[SEP]“Does ...</td>\n",
       "      <td>this concerned sink with a tiny hat</td>\n",
       "      <td>“Does this hat make my head look too big?”[SEP...</td>\n",
       "      <td>0</td>\n",
       "    </tr>\n",
       "    <tr>\n",
       "      <th>1</th>\n",
       "      <td>8gnet9</td>\n",
       "      <td>i found a face in my sheet music too[SEP]That ...</td>\n",
       "      <td>i found a face in my sheet music too</td>\n",
       "      <td>That crescendo part at the top also kind of lo...</td>\n",
       "      <td>0</td>\n",
       "    </tr>\n",
       "    <tr>\n",
       "      <th>2</th>\n",
       "      <td>6d50rl</td>\n",
       "      <td>major thermos[SEP]</td>\n",
       "      <td>major thermos</td>\n",
       "      <td></td>\n",
       "      <td>0</td>\n",
       "    </tr>\n",
       "    <tr>\n",
       "      <th>3</th>\n",
       "      <td>cgp0lmq</td>\n",
       "      <td>cutouts[SEP]</td>\n",
       "      <td>cutouts</td>\n",
       "      <td></td>\n",
       "      <td>0</td>\n",
       "    </tr>\n",
       "    <tr>\n",
       "      <th>4</th>\n",
       "      <td>98vrcq</td>\n",
       "      <td>jesus christ converting local teens to christi...</td>\n",
       "      <td>jesus christ converting local teens to christi...</td>\n",
       "      <td></td>\n",
       "      <td>0</td>\n",
       "    </tr>\n",
       "    <tr>\n",
       "      <th>...</th>\n",
       "      <td>...</td>\n",
       "      <td>...</td>\n",
       "      <td>...</td>\n",
       "      <td>...</td>\n",
       "      <td>...</td>\n",
       "    </tr>\n",
       "    <tr>\n",
       "      <th>4995</th>\n",
       "      <td>1j3xbj</td>\n",
       "      <td>feds investigate redneck day at arizona high s...</td>\n",
       "      <td>feds investigate redneck day at arizona high s...</td>\n",
       "      <td>Why are there pictures of Al Sharpton, and his...</td>\n",
       "      <td>1</td>\n",
       "    </tr>\n",
       "    <tr>\n",
       "      <th>4996</th>\n",
       "      <td>69d6va</td>\n",
       "      <td>czech president pointing at the prime minister...</td>\n",
       "      <td>czech president pointing at the prime minister...</td>\n",
       "      <td>http://imgur.com/uK1Lzyd[SEP][deleted][SEP][](...</td>\n",
       "      <td>1</td>\n",
       "    </tr>\n",
       "    <tr>\n",
       "      <th>4997</th>\n",
       "      <td>3zyd0n</td>\n",
       "      <td>ducks walking in the snow[SEP]Billed baby Wamp...</td>\n",
       "      <td>ducks walking in the snow</td>\n",
       "      <td>Billed baby Wampas \\n[Imgur](http://i.imgur.co...</td>\n",
       "      <td>1</td>\n",
       "    </tr>\n",
       "    <tr>\n",
       "      <th>4998</th>\n",
       "      <td>bq6d04</td>\n",
       "      <td>spring appears to go through the bowl[SEP]It’s...</td>\n",
       "      <td>spring appears to go through the bowl</td>\n",
       "      <td>It’s Coily the sprite[SEP]r/perspective[SEP]</td>\n",
       "      <td>1</td>\n",
       "    </tr>\n",
       "    <tr>\n",
       "      <th>4999</th>\n",
       "      <td>ces03t</td>\n",
       "      <td>iran seizes foreign tanker[SEP]---- **/r/Neutr...</td>\n",
       "      <td>iran seizes foreign tanker</td>\n",
       "      <td>---- **/r/NeutralNews is a curated space.**\\nI...</td>\n",
       "      <td>1</td>\n",
       "    </tr>\n",
       "  </tbody>\n",
       "</table>\n",
       "<p>5000 rows × 5 columns</p>\n",
       "</div>"
      ],
      "text/plain": [
       "           id                                      text_comments  \\\n",
       "0      98pbid  this concerned sink with a tiny hat[SEP]“Does ...   \n",
       "1      8gnet9  i found a face in my sheet music too[SEP]That ...   \n",
       "2      6d50rl                                 major thermos[SEP]   \n",
       "3     cgp0lmq                                       cutouts[SEP]   \n",
       "4      98vrcq  jesus christ converting local teens to christi...   \n",
       "...       ...                                                ...   \n",
       "4995   1j3xbj  feds investigate redneck day at arizona high s...   \n",
       "4996   69d6va  czech president pointing at the prime minister...   \n",
       "4997   3zyd0n  ducks walking in the snow[SEP]Billed baby Wamp...   \n",
       "4998   bq6d04  spring appears to go through the bowl[SEP]It’s...   \n",
       "4999   ces03t  iran seizes foreign tanker[SEP]---- **/r/Neutr...   \n",
       "\n",
       "                                              text_only  \\\n",
       "0                   this concerned sink with a tiny hat   \n",
       "1                  i found a face in my sheet music too   \n",
       "2                                         major thermos   \n",
       "3                                               cutouts   \n",
       "4     jesus christ converting local teens to christi...   \n",
       "...                                                 ...   \n",
       "4995  feds investigate redneck day at arizona high s...   \n",
       "4996  czech president pointing at the prime minister...   \n",
       "4997                          ducks walking in the snow   \n",
       "4998              spring appears to go through the bowl   \n",
       "4999                         iran seizes foreign tanker   \n",
       "\n",
       "                                          comments_only  2_way_label  \n",
       "0     “Does this hat make my head look too big?”[SEP...            0  \n",
       "1     That crescendo part at the top also kind of lo...            0  \n",
       "2                                                                  0  \n",
       "3                                                                  0  \n",
       "4                                                                  0  \n",
       "...                                                 ...          ...  \n",
       "4995  Why are there pictures of Al Sharpton, and his...            1  \n",
       "4996  http://imgur.com/uK1Lzyd[SEP][deleted][SEP][](...            1  \n",
       "4997  Billed baby Wampas \\n[Imgur](http://i.imgur.co...            1  \n",
       "4998       It’s Coily the sprite[SEP]r/perspective[SEP]            1  \n",
       "4999  ---- **/r/NeutralNews is a curated space.**\\nI...            1  \n",
       "\n",
       "[5000 rows x 5 columns]"
      ]
     },
     "execution_count": 17,
     "metadata": {},
     "output_type": "execute_result"
    }
   ],
   "source": [
    "train_csv_file"
   ]
  },
  {
   "cell_type": "code",
   "execution_count": 12,
   "id": "7eacdfb6",
   "metadata": {},
   "outputs": [
    {
     "name": "stderr",
     "output_type": "stream",
     "text": [
      "100%|███████████████████████████████████████████████████████████████████████████████████████████████| 1000/1000 [09:27<00:00,  1.76it/s]\n"
     ]
    }
   ],
   "source": [
    "progress_bar = tqdm(test_data_small_2_classes.iterrows(), total = len(test_data_small_2_classes))\n",
    "for idx, row in progress_bar:\n",
    "    comments_only = \"\"\n",
    "    text_comments = \"\"\n",
    "    text_comments += row[\"clean_title\"]\n",
    "    text_comments += \"[SEP]\"\n",
    "    comments_list = search_comments(row[\"id\"])\n",
    "    for each_comment in comments_list:\n",
    "        comments_only += str(each_comment)\n",
    "        comments_only += \"[SEP]\"\n",
    "        text_comments += str(each_comment)\n",
    "        text_comments += \"[SEP]\"\n",
    "        \n",
    "    single_list = [row[\"id\"], text_comments, row[\"clean_title\"], comments_only, \n",
    "                   row[\"2_way_label\"]]\n",
    "    test_csv_list.append(single_list)"
   ]
  },
  {
   "cell_type": "code",
   "execution_count": 13,
   "id": "0fe98d93",
   "metadata": {},
   "outputs": [],
   "source": [
    "test_csv_file = pd.DataFrame(columns = title, data = test_csv_list)\n",
    "test_csv_file.to_csv(base_dir + \"test_data_small_2_classes.csv\")"
   ]
  },
  {
   "cell_type": "code",
   "execution_count": 14,
   "id": "47d36c46",
   "metadata": {},
   "outputs": [
    {
     "data": {
      "text/html": [
       "<div>\n",
       "<style scoped>\n",
       "    .dataframe tbody tr th:only-of-type {\n",
       "        vertical-align: middle;\n",
       "    }\n",
       "\n",
       "    .dataframe tbody tr th {\n",
       "        vertical-align: top;\n",
       "    }\n",
       "\n",
       "    .dataframe thead th {\n",
       "        text-align: right;\n",
       "    }\n",
       "</style>\n",
       "<table border=\"1\" class=\"dataframe\">\n",
       "  <thead>\n",
       "    <tr style=\"text-align: right;\">\n",
       "      <th></th>\n",
       "      <th>id</th>\n",
       "      <th>text_comments</th>\n",
       "      <th>text_only</th>\n",
       "      <th>comments_only</th>\n",
       "      <th>2_way_label</th>\n",
       "    </tr>\n",
       "  </thead>\n",
       "  <tbody>\n",
       "    <tr>\n",
       "      <th>0</th>\n",
       "      <td>cozywbv</td>\n",
       "      <td>stargazer[SEP]</td>\n",
       "      <td>stargazer</td>\n",
       "      <td></td>\n",
       "      <td>0</td>\n",
       "    </tr>\n",
       "    <tr>\n",
       "      <th>1</th>\n",
       "      <td>ctk61yw</td>\n",
       "      <td>yeah[SEP]</td>\n",
       "      <td>yeah</td>\n",
       "      <td></td>\n",
       "      <td>0</td>\n",
       "    </tr>\n",
       "    <tr>\n",
       "      <th>2</th>\n",
       "      <td>7o9rmx</td>\n",
       "      <td>believers hezbollah[SEP]Does Hezbollah actuall...</td>\n",
       "      <td>believers hezbollah</td>\n",
       "      <td>Does Hezbollah actually have kit that nice? Ke...</td>\n",
       "      <td>0</td>\n",
       "    </tr>\n",
       "    <tr>\n",
       "      <th>3</th>\n",
       "      <td>bdfxf1</td>\n",
       "      <td>the rise of italian fascism circa[SEP]</td>\n",
       "      <td>the rise of italian fascism circa</td>\n",
       "      <td></td>\n",
       "      <td>0</td>\n",
       "    </tr>\n",
       "    <tr>\n",
       "      <th>4</th>\n",
       "      <td>2s0xuj</td>\n",
       "      <td>look at this cool iphone case i got the other ...</td>\n",
       "      <td>look at this cool iphone case i got the other day</td>\n",
       "      <td>Bath bomb?[SEP]I actually saw a iPhone case ev...</td>\n",
       "      <td>0</td>\n",
       "    </tr>\n",
       "    <tr>\n",
       "      <th>...</th>\n",
       "      <td>...</td>\n",
       "      <td>...</td>\n",
       "      <td>...</td>\n",
       "      <td>...</td>\n",
       "      <td>...</td>\n",
       "    </tr>\n",
       "    <tr>\n",
       "      <th>995</th>\n",
       "      <td>d3l5km</td>\n",
       "      <td>a chimera flower expressing two dominant genes...</td>\n",
       "      <td>a chimera flower expressing two dominant genes...</td>\n",
       "      <td>This is a cosmo, all the other flowers are sol...</td>\n",
       "      <td>1</td>\n",
       "    </tr>\n",
       "    <tr>\n",
       "      <th>996</th>\n",
       "      <td>4xtgcd</td>\n",
       "      <td>kalamazoo woman gets new fishing pole from fri...</td>\n",
       "      <td>kalamazoo woman gets new fishing pole from fri...</td>\n",
       "      <td>Wait...there is an actual town named for the t...</td>\n",
       "      <td>1</td>\n",
       "    </tr>\n",
       "    <tr>\n",
       "      <th>997</th>\n",
       "      <td>4o4sau</td>\n",
       "      <td>why used electric car batteries could be cruci...</td>\n",
       "      <td>why used electric car batteries could be cruci...</td>\n",
       "      <td></td>\n",
       "      <td>1</td>\n",
       "    </tr>\n",
       "    <tr>\n",
       "      <th>998</th>\n",
       "      <td>akfexa</td>\n",
       "      <td>this egg i cooked has a sad face[SEP]It was ju...</td>\n",
       "      <td>this egg i cooked has a sad face</td>\n",
       "      <td>It was just trying to have a happy life and no...</td>\n",
       "      <td>1</td>\n",
       "    </tr>\n",
       "    <tr>\n",
       "      <th>999</th>\n",
       "      <td>bvq9li</td>\n",
       "      <td>these engravings on my contact lenses[SEP]Bruh...</td>\n",
       "      <td>these engravings on my contact lenses</td>\n",
       "      <td>Bruh[SEP]Mildly infuriating[SEP]OH it reminds ...</td>\n",
       "      <td>1</td>\n",
       "    </tr>\n",
       "  </tbody>\n",
       "</table>\n",
       "<p>1000 rows × 5 columns</p>\n",
       "</div>"
      ],
      "text/plain": [
       "          id                                      text_comments  \\\n",
       "0    cozywbv                                     stargazer[SEP]   \n",
       "1    ctk61yw                                          yeah[SEP]   \n",
       "2     7o9rmx  believers hezbollah[SEP]Does Hezbollah actuall...   \n",
       "3     bdfxf1             the rise of italian fascism circa[SEP]   \n",
       "4     2s0xuj  look at this cool iphone case i got the other ...   \n",
       "..       ...                                                ...   \n",
       "995   d3l5km  a chimera flower expressing two dominant genes...   \n",
       "996   4xtgcd  kalamazoo woman gets new fishing pole from fri...   \n",
       "997   4o4sau  why used electric car batteries could be cruci...   \n",
       "998   akfexa  this egg i cooked has a sad face[SEP]It was ju...   \n",
       "999   bvq9li  these engravings on my contact lenses[SEP]Bruh...   \n",
       "\n",
       "                                             text_only  \\\n",
       "0                                            stargazer   \n",
       "1                                                 yeah   \n",
       "2                                  believers hezbollah   \n",
       "3                    the rise of italian fascism circa   \n",
       "4    look at this cool iphone case i got the other day   \n",
       "..                                                 ...   \n",
       "995  a chimera flower expressing two dominant genes...   \n",
       "996  kalamazoo woman gets new fishing pole from fri...   \n",
       "997  why used electric car batteries could be cruci...   \n",
       "998                   this egg i cooked has a sad face   \n",
       "999              these engravings on my contact lenses   \n",
       "\n",
       "                                         comments_only  2_way_label  \n",
       "0                                                                 0  \n",
       "1                                                                 0  \n",
       "2    Does Hezbollah actually have kit that nice? Ke...            0  \n",
       "3                                                                 0  \n",
       "4    Bath bomb?[SEP]I actually saw a iPhone case ev...            0  \n",
       "..                                                 ...          ...  \n",
       "995  This is a cosmo, all the other flowers are sol...            1  \n",
       "996  Wait...there is an actual town named for the t...            1  \n",
       "997                                                               1  \n",
       "998  It was just trying to have a happy life and no...            1  \n",
       "999  Bruh[SEP]Mildly infuriating[SEP]OH it reminds ...            1  \n",
       "\n",
       "[1000 rows x 5 columns]"
      ]
     },
     "execution_count": 14,
     "metadata": {},
     "output_type": "execute_result"
    }
   ],
   "source": [
    "test_csv_file"
   ]
  },
  {
   "cell_type": "markdown",
   "id": "4dbf004b",
   "metadata": {},
   "source": [
    "#### 2_way_label medium dataset"
   ]
  },
  {
   "cell_type": "code",
   "execution_count": 18,
   "id": "c50c48ba",
   "metadata": {},
   "outputs": [],
   "source": [
    "top_negative_train_data = train_data_selected[train_data_selected[\"2_way_label\"] == 0].head(5000)\n",
    "top_postive_train_data = train_data_selected[train_data_selected[\"2_way_label\"] == 1].head(5000)\n",
    "train_data_medium_2_classes = pd.concat([top_negative_train_data, top_postive_train_data])"
   ]
  },
  {
   "cell_type": "code",
   "execution_count": 19,
   "id": "f9ab3eae",
   "metadata": {},
   "outputs": [],
   "source": [
    "top_negative_test_data = test_data_selected[test_data_selected[\"2_way_label\"] == 0].head(1000)\n",
    "top_postive_test_data = test_data_selected[test_data_selected[\"2_way_label\"] == 1].head(1000)\n",
    "test_data_medium_2_classes = pd.concat([top_negative_test_data, top_postive_test_data])"
   ]
  },
  {
   "cell_type": "code",
   "execution_count": 20,
   "id": "546dc0b5",
   "metadata": {},
   "outputs": [],
   "source": [
    "train_csv_list = []\n",
    "test_csv_list = []\n",
    "title = [\"id\", \"text_comments\", \"text_only\", \"comments_only\", \"2_way_label\"]\n",
    "base_dir = \"./data/processed_data/2_classes_medium/\""
   ]
  },
  {
   "cell_type": "code",
   "execution_count": 21,
   "id": "df352b14",
   "metadata": {},
   "outputs": [
    {
     "name": "stderr",
     "output_type": "stream",
     "text": [
      "100%|████████████████████████████████████████████████████████████████████████████████████████| 10000/10000 [1:24:08<00:00,  1.98it/s]\n"
     ]
    }
   ],
   "source": [
    "progress_bar = tqdm(train_data_medium_2_classes.iterrows(), total = len(train_data_medium_2_classes))\n",
    "for idx, row in progress_bar:\n",
    "    comments_only = \"\"\n",
    "    text_comments = \"\"\n",
    "    text_comments += row[\"clean_title\"]\n",
    "    text_comments += \"[SEP]\"\n",
    "    comments_list = search_comments(row[\"id\"])\n",
    "    for each_comment in comments_list:\n",
    "        comments_only += str(each_comment)\n",
    "        comments_only += \"[SEP]\"\n",
    "        text_comments += str(each_comment)\n",
    "        text_comments += \"[SEP]\"\n",
    "        \n",
    "    single_list = [row[\"id\"], text_comments, row[\"clean_title\"], comments_only, row[\"2_way_label\"]]\n",
    "    train_csv_list.append(single_list)"
   ]
  },
  {
   "cell_type": "code",
   "execution_count": 22,
   "id": "dbb4d708",
   "metadata": {},
   "outputs": [],
   "source": [
    "train_csv_file = pd.DataFrame(columns = title, data = train_csv_list)\n",
    "train_csv_file.to_csv(base_dir + \"train_data_medium_2_classes.csv\")"
   ]
  },
  {
   "cell_type": "code",
   "execution_count": 23,
   "id": "edb16518",
   "metadata": {},
   "outputs": [
    {
     "name": "stderr",
     "output_type": "stream",
     "text": [
      " 44%|████████████████████████████████████████▉                                                    | 881/2000 [06:58<08:49,  2.11it/s]"
     ]
    }
   ],
   "source": [
    "progress_bar = tqdm(test_data_medium_2_classes.iterrows(), total = len(test_data_medium_2_classes))\n",
    "for idx, row in progress_bar:\n",
    "    comments_only = \"\"\n",
    "    text_comments = \"\"\n",
    "    text_comments += row[\"clean_title\"]\n",
    "    text_comments += \"[SEP]\"\n",
    "    comments_list = search_comments(row[\"id\"])\n",
    "    for each_comment in comments_list:\n",
    "        comments_only += str(each_comment)\n",
    "        comments_only += \"[SEP]\"\n",
    "        text_comments += str(each_comment)\n",
    "        text_comments += \"[SEP]\"\n",
    "        \n",
    "    single_list = [row[\"id\"], text_comments, row[\"clean_title\"], comments_only, \n",
    "                   row[\"2_way_label\"]]\n",
    "    test_csv_list.append(single_list)"
   ]
  },
  {
   "cell_type": "code",
   "execution_count": 24,
   "id": "2d15bd63",
   "metadata": {},
   "outputs": [],
   "source": [
    "test_csv_file = pd.DataFrame(columns = title, data = test_csv_list)\n",
    "test_csv_file.to_csv(base_dir + \"test_data_medium_2_classes.csv\")"
   ]
  },
  {
   "cell_type": "code",
   "execution_count": null,
   "id": "824e4d86",
   "metadata": {},
   "outputs": [],
   "source": []
  }
 ],
 "metadata": {
  "kernelspec": {
   "display_name": "Python 3 (ipykernel)",
   "language": "python",
   "name": "python3"
  },
  "language_info": {
   "codemirror_mode": {
    "name": "ipython",
    "version": 3
   },
   "file_extension": ".py",
   "mimetype": "text/x-python",
   "name": "python",
   "nbconvert_exporter": "python",
   "pygments_lexer": "ipython3",
   "version": "3.9.16"
  },
  "toc": {
   "base_numbering": "",
   "nav_menu": {},
   "number_sections": false,
   "sideBar": true,
   "skip_h1_title": false,
   "title_cell": "Table of Contents",
   "title_sidebar": "Contents",
   "toc_cell": false,
   "toc_position": {
    "height": "calc(100% - 180px)",
    "left": "10px",
    "top": "150px",
    "width": "288px"
   },
   "toc_section_display": true,
   "toc_window_display": false
  }
 },
 "nbformat": 4,
 "nbformat_minor": 5
}
