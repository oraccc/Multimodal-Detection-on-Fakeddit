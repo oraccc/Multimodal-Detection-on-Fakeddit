{
 "cells": [
  {
   "cell_type": "markdown",
   "id": "fddd6470",
   "metadata": {},
   "source": [
    "### Load Selected Fakeddit Dataset and Create Dataloader"
   ]
  },
  {
   "cell_type": "code",
   "execution_count": 7,
   "id": "5d62485a",
   "metadata": {},
   "outputs": [],
   "source": [
    "import pandas as pd\n",
    "import os\n",
    "import numpy as np\n",
    "import transformers\n",
    "from transformers import BertTokenizer\n",
    "import warnings\n",
    "\n",
    "warnings.filterwarnings(\"ignore\") \n",
    "os.environ[\"CUDA_VISIBLE_DEVICES\"] = \"1\"\n",
    "\n",
    "# Dataset Config\n",
    "DATASET_NUM_CLASSES = 2\n",
    "DATASET_SIZE = \"big\"\n",
    "DATASET_BASE_DIR = \"./data/processed_data/\" + str(DATASET_NUM_CLASSES) + \"_classes_\" + DATASET_SIZE\n",
    "DATA_TYPE = \"text_comments\" \n",
    "\n",
    "# BERT Config\n",
    "PRE_TRAINED_MODEL_NAME = \"bert-base-cased\"\n",
    "MAX_LEN = 512\n",
    "BATCH_SIZE = 8\n",
    "NUM_EPOCHES = 5\n",
    "SAVE_PATH = \"./trained_models/\" + str(DATASET_NUM_CLASSES) + \"_classes_\" + DATASET_SIZE + \"/classification_models_\" + DATA_TYPE + \".pth\""
   ]
  },
  {
   "cell_type": "code",
   "execution_count": 8,
   "id": "53dcc010",
   "metadata": {},
   "outputs": [],
   "source": [
    "train_data_raw = pd.read_csv(DATASET_BASE_DIR + \"/train_data.csv\")\n",
    "test_data_raw = pd.read_csv(DATASET_BASE_DIR + \"/test_data.csv\")"
   ]
  },
  {
   "cell_type": "code",
   "execution_count": 9,
   "id": "04dbb6b5",
   "metadata": {},
   "outputs": [],
   "source": [
    "train_data = train_data_raw[[DATA_TYPE, \"2_way_label\"]]\n",
    "test_data = test_data_raw[[DATA_TYPE, \"2_way_label\"]]"
   ]
  },
  {
   "cell_type": "code",
   "execution_count": 10,
   "id": "67947659",
   "metadata": {},
   "outputs": [],
   "source": [
    "train_data.rename(columns = {DATA_TYPE : \"text\", \"2_way_label\" : \"label\"}, inplace = True)\n",
    "test_data.rename(columns = {DATA_TYPE : \"text\", \"2_way_label\" : \"label\"}, inplace = True)"
   ]
  },
  {
   "cell_type": "code",
   "execution_count": 12,
   "id": "a665374c",
   "metadata": {},
   "outputs": [],
   "source": [
    "tokenizer = BertTokenizer.from_pretrained(PRE_TRAINED_MODEL_NAME)"
   ]
  },
  {
   "cell_type": "markdown",
   "id": "b0ed87f1",
   "metadata": {},
   "source": [
    "#### Dataset Analysis"
   ]
  },
  {
   "cell_type": "code",
   "execution_count": 6,
   "id": "2732324e",
   "metadata": {},
   "outputs": [],
   "source": [
    "# import seaborn as sns\n",
    "# import matplotlib.pyplot as plt"
   ]
  },
  {
   "cell_type": "code",
   "execution_count": 7,
   "id": "dedf62b1",
   "metadata": {},
   "outputs": [],
   "source": [
    "# token_lens = []\n",
    "# for text in train_data.text:\n",
    "#     tokens = tokenizer.encode(text, max_length = 1024, truncation=True)\n",
    "#     token_lens.append(len(tokens))"
   ]
  },
  {
   "cell_type": "code",
   "execution_count": 8,
   "id": "6efe926b",
   "metadata": {},
   "outputs": [],
   "source": [
    "# sns.displot(token_lens, kind=\"ecdf\")\n",
    "# plt.xlim([0, 512]);\n",
    "# plt.xlabel('Token count');"
   ]
  },
  {
   "cell_type": "markdown",
   "id": "24eac838",
   "metadata": {},
   "source": [
    "#### Create Dataloader"
   ]
  },
  {
   "cell_type": "code",
   "execution_count": 13,
   "id": "191f91eb",
   "metadata": {},
   "outputs": [
    {
     "name": "stdout",
     "output_type": "stream",
     "text": [
      "cuda\n"
     ]
    }
   ],
   "source": [
    "import torch\n",
    "import torch.nn.functional as F\n",
    "from torch import nn, optim\n",
    "from torch.utils.data import Dataset, DataLoader\n",
    "from torch.nn.utils import weight_norm\n",
    "import torch.optim.lr_scheduler as lr_scheduler\n",
    "\n",
    "device = torch.device(\"cuda\" if torch.cuda.is_available() else \"cpu\")\n",
    "print(device)"
   ]
  },
  {
   "cell_type": "code",
   "execution_count": 14,
   "id": "f1cf4ad3",
   "metadata": {},
   "outputs": [],
   "source": [
    "class FakedditDataset(Dataset):\n",
    "    def __init__(self, texts, labels, tokenizer, max_len):\n",
    "        super(FakedditDataset, self).__init__()\n",
    "        self.texts = texts\n",
    "        self.labels = labels\n",
    "        self.tokenizer = tokenizer\n",
    "        self.max_len = max_len\n",
    "\n",
    "    def __len__(self):\n",
    "        return len(self.texts)\n",
    "\n",
    "    def __getitem__(self, item):\n",
    "        text = self.texts[item]\n",
    "        label = torch.tensor(self.labels[item], dtype = torch.long)\n",
    "        encoding = self.tokenizer.encode_plus(text, max_length=self.max_len, padding = \"max_length\",\n",
    "                                              truncation=True, return_tensors=\"pt\")\n",
    "        return {\n",
    "            \"label\": label,\n",
    "            \"attention_mask\": encoding[\"attention_mask\"].flatten(),\n",
    "            \"input_ids\": encoding[\"input_ids\"].flatten()\n",
    "        }"
   ]
  },
  {
   "cell_type": "code",
   "execution_count": 15,
   "id": "af3712d2",
   "metadata": {},
   "outputs": [],
   "source": [
    "def create_data_loader(df, tokenizer, max_len, batch_size):\n",
    "    ds = FakedditDataset(\n",
    "        texts = df.text.to_numpy(),\n",
    "        labels = df.label.to_numpy(),\n",
    "        tokenizer = tokenizer,\n",
    "        max_len = max_len\n",
    "    )\n",
    "\n",
    "    return DataLoader(ds, batch_size = batch_size, shuffle = True, num_workers = 0)"
   ]
  },
  {
   "cell_type": "code",
   "execution_count": 16,
   "id": "68dd9fd1",
   "metadata": {},
   "outputs": [],
   "source": [
    "train_data_loader = create_data_loader(train_data, tokenizer, MAX_LEN, BATCH_SIZE)\n",
    "test_data_loader = create_data_loader(test_data, tokenizer, MAX_LEN, BATCH_SIZE)"
   ]
  },
  {
   "cell_type": "code",
   "execution_count": 17,
   "id": "017b698a",
   "metadata": {},
   "outputs": [
    {
     "name": "stdout",
     "output_type": "stream",
     "text": [
      "torch.Size([8, 512])\n",
      "torch.Size([8, 512])\n",
      "torch.Size([8])\n"
     ]
    }
   ],
   "source": [
    "sample_data = next(iter(train_data_loader))\n",
    "print(sample_data[\"input_ids\"].shape)\n",
    "print(sample_data[\"attention_mask\"].shape)\n",
    "print(sample_data[\"label\"].shape)"
   ]
  },
  {
   "cell_type": "markdown",
   "id": "3a0fd79e",
   "metadata": {},
   "source": [
    "### Define BERT Classification Model and Train"
   ]
  },
  {
   "cell_type": "code",
   "execution_count": 18,
   "id": "31d205af",
   "metadata": {},
   "outputs": [
    {
     "name": "stderr",
     "output_type": "stream",
     "text": [
      "2023-04-03 23:54:54.542815: I tensorflow/core/platform/cpu_feature_guard.cc:193] This TensorFlow binary is optimized with oneAPI Deep Neural Network Library (oneDNN) to use the following CPU instructions in performance-critical operations:  AVX2 FMA\n",
      "To enable them in other operations, rebuild TensorFlow with the appropriate compiler flags.\n",
      "2023-04-03 23:54:56.738147: W tensorflow/compiler/xla/stream_executor/platform/default/dso_loader.cc:64] Could not load dynamic library 'libnvinfer.so.7'; dlerror: libnvinfer.so.7: cannot open shared object file: No such file or directory; LD_LIBRARY_PATH: :/usr/lib/oracle/12.2/client64/lib/lib:/usr/local/lib::.\n",
      "2023-04-03 23:54:56.738243: W tensorflow/compiler/xla/stream_executor/platform/default/dso_loader.cc:64] Could not load dynamic library 'libnvinfer_plugin.so.7'; dlerror: libnvinfer_plugin.so.7: cannot open shared object file: No such file or directory; LD_LIBRARY_PATH: :/usr/lib/oracle/12.2/client64/lib/lib:/usr/local/lib::.\n",
      "2023-04-03 23:54:56.738253: W tensorflow/compiler/tf2tensorrt/utils/py_utils.cc:38] TF-TRT Warning: Cannot dlopen some TensorRT libraries. If you would like to use Nvidia GPU with TensorRT, please make sure the missing libraries mentioned above are installed properly.\n"
     ]
    }
   ],
   "source": [
    "from transformers import BertModel, AdamW, get_linear_schedule_with_warmup\n",
    "from tqdm import tqdm"
   ]
  },
  {
   "cell_type": "code",
   "execution_count": 19,
   "id": "225e711d",
   "metadata": {},
   "outputs": [],
   "source": [
    "class BERTForClassification(nn.Module):\n",
    "    def __init__(self, num_classes):\n",
    "        super(BERTForClassification, self).__init__()\n",
    "        self.bert = BertModel.from_pretrained(PRE_TRAINED_MODEL_NAME)\n",
    "        self.drop = nn.Dropout(p = 0.3)\n",
    "        self.fc = nn.Linear(self.bert.config.hidden_size, num_classes)\n",
    "\n",
    "    def forward(self, input_ids = None, attention_mask = None):\n",
    "        bert_outputs = self.bert(input_ids, attention_mask = attention_mask)\n",
    "        pooled_outputs = self.drop(bert_outputs[1])\n",
    "        out = self.fc(pooled_outputs)\n",
    "        return out"
   ]
  },
  {
   "cell_type": "code",
   "execution_count": 20,
   "id": "27fa0fbb",
   "metadata": {},
   "outputs": [],
   "source": [
    "def train_epoch(model, data_loader, loss_fn, optimizer, scheduler, device, n_examples):\n",
    "    model = model.train()\n",
    "    total_losses = 0\n",
    "    correct_count = 0\n",
    "    progress_bar = tqdm(enumerate(data_loader), total = len(data_loader))\n",
    "    for idx, data in progress_bar:\n",
    "        inputs = {\"input_ids\": data[\"input_ids\"].to(device), \"attention_mask\": data[\"attention_mask\"].to(device)}\n",
    "        targets = data[\"label\"].to(device)\n",
    "        outputs = model(**inputs)\n",
    "        _, preds = torch.max(outputs, dim=1)\n",
    "        loss = loss_fn(outputs, targets)\n",
    "        correct_count += torch.sum(preds == targets)\n",
    "        loss.backward()\n",
    "        total_losses += loss.item()\n",
    "        nn.utils.clip_grad_norm_(model.parameters(), max_norm=1.0)\n",
    "        optimizer.step()\n",
    "        scheduler.step()\n",
    "        optimizer.zero_grad()\n",
    "        progress_bar.set_description(f\"loss:{loss.item():.4f}\")\n",
    "\n",
    "    return correct_count.double() / n_examples, total_losses / len(data_loader)"
   ]
  },
  {
   "cell_type": "code",
   "execution_count": 21,
   "id": "114e9016",
   "metadata": {},
   "outputs": [
    {
     "name": "stderr",
     "output_type": "stream",
     "text": [
      "Some weights of the model checkpoint at bert-base-cased were not used when initializing BertModel: ['cls.seq_relationship.bias', 'cls.seq_relationship.weight', 'cls.predictions.transform.LayerNorm.weight', 'cls.predictions.decoder.weight', 'cls.predictions.transform.LayerNorm.bias', 'cls.predictions.transform.dense.bias', 'cls.predictions.transform.dense.weight', 'cls.predictions.bias']\n",
      "- This IS expected if you are initializing BertModel from the checkpoint of a model trained on another task or with another architecture (e.g. initializing a BertForSequenceClassification model from a BertForPreTraining model).\n",
      "- This IS NOT expected if you are initializing BertModel from the checkpoint of a model that you expect to be exactly identical (initializing a BertForSequenceClassification model from a BertForSequenceClassification model).\n"
     ]
    }
   ],
   "source": [
    "model = BERTForClassification(DATASET_NUM_CLASSES)\n",
    "model = model.to(device)\n",
    "optimizer = AdamW(model.parameters(), lr = 2e-5, correct_bias = False)\n",
    "total_steps = len(train_data_loader) * NUM_EPOCHES\n",
    "scheduler = get_linear_schedule_with_warmup(optimizer, num_warmup_steps=0, num_training_steps = total_steps)\n",
    "loss_fn = nn.CrossEntropyLoss().to(device)"
   ]
  },
  {
   "cell_type": "code",
   "execution_count": 22,
   "id": "f8aa67cd",
   "metadata": {
    "scrolled": false
   },
   "outputs": [
    {
     "name": "stdout",
     "output_type": "stream",
     "text": [
      "Epoch 1/5\n",
      "----------\n"
     ]
    },
    {
     "name": "stderr",
     "output_type": "stream",
     "text": [
      "loss:0.1138: 100%|███████████████████████████████████████████████████████████████████████| 1875/1875 [33:26<00:00,  1.07s/it]\n"
     ]
    },
    {
     "name": "stdout",
     "output_type": "stream",
     "text": [
      "\n",
      "\n",
      "Train loss: 0.4273549804310004  Accuracy: 0.8278000000000001\n",
      "Epoch 2/5\n",
      "----------\n"
     ]
    },
    {
     "name": "stderr",
     "output_type": "stream",
     "text": [
      "loss:0.0081: 100%|███████████████████████████████████████████████████████████████████████| 1875/1875 [33:23<00:00,  1.07s/it]\n"
     ]
    },
    {
     "name": "stdout",
     "output_type": "stream",
     "text": [
      "\n",
      "\n",
      "Train loss: 0.27687516287863256  Accuracy: 0.92\n",
      "Epoch 3/5\n",
      "----------\n"
     ]
    },
    {
     "name": "stderr",
     "output_type": "stream",
     "text": [
      "loss:0.4234: 100%|███████████████████████████████████████████████████████████████████████| 1875/1875 [33:07<00:00,  1.06s/it]\n"
     ]
    },
    {
     "name": "stdout",
     "output_type": "stream",
     "text": [
      "\n",
      "\n",
      "Train loss: 0.17409038978939256  Accuracy: 0.9588666666666668\n",
      "Epoch 4/5\n",
      "----------\n"
     ]
    },
    {
     "name": "stderr",
     "output_type": "stream",
     "text": [
      "loss:0.0011: 100%|███████████████████████████████████████████████████████████████████████| 1875/1875 [33:27<00:00,  1.07s/it]\n"
     ]
    },
    {
     "name": "stdout",
     "output_type": "stream",
     "text": [
      "\n",
      "\n",
      "Train loss: 0.08991995980484256  Accuracy: 0.9804666666666667\n",
      "Epoch 5/5\n",
      "----------\n"
     ]
    },
    {
     "name": "stderr",
     "output_type": "stream",
     "text": [
      "loss:0.0002: 100%|███████████████████████████████████████████████████████████████████████| 1875/1875 [33:12<00:00,  1.06s/it]"
     ]
    },
    {
     "name": "stdout",
     "output_type": "stream",
     "text": [
      "\n",
      "\n",
      "Train loss: 0.04827461704448797  Accuracy: 0.9909333333333333\n"
     ]
    },
    {
     "name": "stderr",
     "output_type": "stream",
     "text": [
      "\n"
     ]
    }
   ],
   "source": [
    "model.zero_grad()\n",
    "\n",
    "for epoch in range(NUM_EPOCHES):\n",
    "    print(f'Epoch {epoch+1}/{NUM_EPOCHES}')\n",
    "    print('-' * 10)\n",
    "\n",
    "    train_acc, train_loss = train_epoch(model, train_data_loader, loss_fn, optimizer, scheduler, device, len(train_data))\n",
    "    print('\\n')\n",
    "    print(f'Train loss: {train_loss}  Accuracy: {train_acc}')"
   ]
  },
  {
   "cell_type": "code",
   "execution_count": 23,
   "id": "32f4408e",
   "metadata": {},
   "outputs": [],
   "source": [
    "torch.save(model, SAVE_PATH)"
   ]
  },
  {
   "cell_type": "markdown",
   "id": "a3369733",
   "metadata": {},
   "source": [
    "### Evaluate BERT Classification Model"
   ]
  },
  {
   "cell_type": "code",
   "execution_count": 24,
   "id": "751eef58",
   "metadata": {},
   "outputs": [],
   "source": [
    "e_model = torch.load(SAVE_PATH, map_location=torch.device(device))"
   ]
  },
  {
   "cell_type": "code",
   "execution_count": 25,
   "id": "2d91f5c4",
   "metadata": {},
   "outputs": [],
   "source": [
    "from sklearn.metrics import classification_report\n",
    "\n",
    "def eval_model(model, data_loader, device):\n",
    "    model = model.eval()\n",
    "    progress_bar = tqdm(enumerate(data_loader), total=len(data_loader))\n",
    "    all_targets = []\n",
    "    all_predictions = []\n",
    "    for idx, data in progress_bar:\n",
    "        inputs = {\"input_ids\": data[\"input_ids\"].to(device), \"attention_mask\": data[\"attention_mask\"].to(device)}\n",
    "        targets = data[\"label\"].to(device)\n",
    "        probs = model(**inputs)\n",
    "        _, preds = torch.max(probs, dim = 1)\n",
    "        all_targets += targets.cpu().numpy().tolist()\n",
    "        all_predictions += preds.cpu().numpy().tolist()\n",
    "    print(classification_report(all_targets, all_predictions, digits = 4))"
   ]
  },
  {
   "cell_type": "code",
   "execution_count": 26,
   "id": "291a48b8",
   "metadata": {},
   "outputs": [
    {
     "name": "stderr",
     "output_type": "stream",
     "text": [
      "100%|██████████████████████████████████████████████████████████████████████████████████████| 375/375 [02:22<00:00,  2.64it/s]"
     ]
    },
    {
     "name": "stdout",
     "output_type": "stream",
     "text": [
      "              precision    recall  f1-score   support\n",
      "\n",
      "           0     0.9145    0.9060    0.9102      1500\n",
      "           1     0.9069    0.9153    0.9111      1500\n",
      "\n",
      "    accuracy                         0.9107      3000\n",
      "   macro avg     0.9107    0.9107    0.9107      3000\n",
      "weighted avg     0.9107    0.9107    0.9107      3000\n",
      "\n"
     ]
    },
    {
     "name": "stderr",
     "output_type": "stream",
     "text": [
      "\n"
     ]
    }
   ],
   "source": [
    "eval_model(e_model, test_data_loader, device)"
   ]
  },
  {
   "cell_type": "code",
   "execution_count": null,
   "id": "optimum-frequency",
   "metadata": {},
   "outputs": [],
   "source": []
  }
 ],
 "metadata": {
  "kernelspec": {
   "display_name": "rumour",
   "language": "python",
   "name": "rumour"
  },
  "language_info": {
   "codemirror_mode": {
    "name": "ipython",
    "version": 3
   },
   "file_extension": ".py",
   "mimetype": "text/x-python",
   "name": "python",
   "nbconvert_exporter": "python",
   "pygments_lexer": "ipython3",
   "version": "3.9.16"
  },
  "toc": {
   "base_numbering": 1,
   "nav_menu": {},
   "number_sections": false,
   "sideBar": true,
   "skip_h1_title": false,
   "title_cell": "Table of Contents",
   "title_sidebar": "Contents",
   "toc_cell": false,
   "toc_position": {
    "height": "calc(100% - 180px)",
    "left": "10px",
    "top": "150px",
    "width": "286.875px"
   },
   "toc_section_display": true,
   "toc_window_display": false
  }
 },
 "nbformat": 4,
 "nbformat_minor": 5
}
