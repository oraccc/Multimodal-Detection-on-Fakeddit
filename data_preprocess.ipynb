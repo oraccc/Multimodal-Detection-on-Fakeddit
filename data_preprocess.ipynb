{
 "cells": [
  {
   "cell_type": "markdown",
   "id": "07eece42",
   "metadata": {},
   "source": [
    "### Merge Title and Comments"
   ]
  },
  {
   "cell_type": "code",
   "execution_count": 1,
   "id": "6e61e551",
   "metadata": {},
   "outputs": [],
   "source": [
    "import pandas as pd\n",
    "from tqdm import tqdm\n"
   ]
  },
  {
   "cell_type": "code",
   "execution_count": 2,
   "id": "8b9311e5",
   "metadata": {},
   "outputs": [],
   "source": [
    "train_data = pd.read_csv(\"./data/text_metadata/multimodal_only_samples/multimodal_train.tsv\", sep='\\t')\n",
    "test_data = pd.read_csv(\"./data/text_metadata/multimodal_only_samples/multimodal_test_public.tsv\", sep='\\t')"
   ]
  },
  {
   "cell_type": "code",
   "execution_count": 3,
   "id": "c094a332",
   "metadata": {},
   "outputs": [],
   "source": [
    "# train_data.head(5)"
   ]
  },
  {
   "cell_type": "code",
   "execution_count": 4,
   "id": "47a75244",
   "metadata": {},
   "outputs": [],
   "source": [
    "train_data_selected = train_data[[\"clean_title\", \"id\", \"image_url\", \"2_way_label\", \"3_way_label\", \"6_way_label\"]]\n",
    "test_data_selected = test_data[[\"clean_title\", \"id\", \"image_url\", \"2_way_label\", \"3_way_label\", \"6_way_label\"]]"
   ]
  },
  {
   "cell_type": "code",
   "execution_count": 5,
   "id": "08e44fa7",
   "metadata": {},
   "outputs": [
    {
     "name": "stderr",
     "output_type": "stream",
     "text": [
      "/tmp/ipykernel_74111/4234283532.py:1: DtypeWarning: Columns (0,1,2,3,4,5,6) have mixed types. Specify dtype option on import or set low_memory=False.\n",
      "  comments_data = pd.read_csv(\"./data/comments/all_comments.tsv\", sep='\\t')\n"
     ]
    }
   ],
   "source": [
    "comments_data = pd.read_csv(\"./data/comments/all_comments.tsv\", sep='\\t')"
   ]
  },
  {
   "cell_type": "code",
   "execution_count": 6,
   "id": "0fe35c6b",
   "metadata": {},
   "outputs": [],
   "source": [
    "comments_data = comments_data[[\"body\", \"submission_id\"]]"
   ]
  },
  {
   "cell_type": "code",
   "execution_count": 7,
   "id": "c6bb9ae7",
   "metadata": {},
   "outputs": [],
   "source": [
    "def search_comments(key):\n",
    "    comments_list = []\n",
    "    result = comments_data.loc[comments_data.submission_id == key]\n",
    "    if not result.empty:\n",
    "        for idx, row in result.iterrows():\n",
    "            comments_list.append(row.body)\n",
    "    return comments_list"
   ]
  },
  {
   "cell_type": "markdown",
   "id": "3dcf8088",
   "metadata": {},
   "source": [
    "#### 2_way_label dataset"
   ]
  },
  {
   "cell_type": "code",
   "execution_count": 12,
   "id": "101d3c8e",
   "metadata": {},
   "outputs": [],
   "source": [
    "top_negative_train_data = train_data_selected[train_data_selected[\"2_way_label\"] == 0].head(7500)\n",
    "top_postive_train_data = train_data_selected[train_data_selected[\"2_way_label\"] == 1].head(7500)\n",
    "train_data_2_classes = pd.concat([top_negative_train_data, top_postive_train_data])"
   ]
  },
  {
   "cell_type": "code",
   "execution_count": 13,
   "id": "8f02ac08",
   "metadata": {},
   "outputs": [],
   "source": [
    "top_negative_test_data = test_data_selected[test_data_selected[\"2_way_label\"] == 0].head(1500)\n",
    "top_postive_test_data = test_data_selected[test_data_selected[\"2_way_label\"] == 1].head(1500)\n",
    "test_data_2_classes = pd.concat([top_negative_test_data, top_postive_test_data])"
   ]
  },
  {
   "cell_type": "code",
   "execution_count": 14,
   "id": "851b69bd",
   "metadata": {},
   "outputs": [],
   "source": [
    "train_csv_list = []\n",
    "test_csv_list = []\n",
    "title = [\"id\", \"text_comments\", \"text_only\", \"comments_only\", \"2_way_label\"]\n",
    "base_dir = \"./data/processed_data/2_classes_big/\""
   ]
  },
  {
   "cell_type": "code",
   "execution_count": 15,
   "id": "eb3fea51",
   "metadata": {},
   "outputs": [
    {
     "name": "stderr",
     "output_type": "stream",
     "text": [
      "100%|█████████████████████████████████████████████████████████████████████████████████████████| 15000/15000 [2:00:12<00:00,  2.08it/s]\n"
     ]
    }
   ],
   "source": [
    "progress_bar = tqdm(train_data_2_classes.iterrows(), total = len(train_data_2_classes))\n",
    "for idx, row in progress_bar:\n",
    "    comments_only = \"\"\n",
    "    text_comments = \"\"\n",
    "    text_comments += row[\"clean_title\"]\n",
    "    text_comments += \"[SEP]\"\n",
    "    comments_list = search_comments(row[\"id\"])\n",
    "    for each_comment in comments_list:\n",
    "        comments_only += str(each_comment)\n",
    "        comments_only += \"[SEP]\"\n",
    "        text_comments += str(each_comment)\n",
    "        text_comments += \"[SEP]\"\n",
    "        \n",
    "    single_list = [row[\"id\"], text_comments, row[\"clean_title\"], comments_only, row[\"2_way_label\"]]\n",
    "    train_csv_list.append(single_list)"
   ]
  },
  {
   "cell_type": "code",
   "execution_count": 17,
   "id": "6479dd65",
   "metadata": {},
   "outputs": [],
   "source": [
    "train_csv_file = pd.DataFrame(columns = title, data = train_csv_list)\n",
    "train_csv_file.to_csv(base_dir + \"train_data.csv\")"
   ]
  },
  {
   "cell_type": "code",
   "execution_count": 18,
   "id": "5cfed13d",
   "metadata": {},
   "outputs": [
    {
     "data": {
      "text/html": [
       "<div>\n",
       "<style scoped>\n",
       "    .dataframe tbody tr th:only-of-type {\n",
       "        vertical-align: middle;\n",
       "    }\n",
       "\n",
       "    .dataframe tbody tr th {\n",
       "        vertical-align: top;\n",
       "    }\n",
       "\n",
       "    .dataframe thead th {\n",
       "        text-align: right;\n",
       "    }\n",
       "</style>\n",
       "<table border=\"1\" class=\"dataframe\">\n",
       "  <thead>\n",
       "    <tr style=\"text-align: right;\">\n",
       "      <th></th>\n",
       "      <th>id</th>\n",
       "      <th>text_comments</th>\n",
       "      <th>text_only</th>\n",
       "      <th>comments_only</th>\n",
       "      <th>2_way_label</th>\n",
       "    </tr>\n",
       "  </thead>\n",
       "  <tbody>\n",
       "    <tr>\n",
       "      <th>0</th>\n",
       "      <td>98pbid</td>\n",
       "      <td>this concerned sink with a tiny hat[SEP]“Does ...</td>\n",
       "      <td>this concerned sink with a tiny hat</td>\n",
       "      <td>“Does this hat make my head look too big?”[SEP...</td>\n",
       "      <td>0</td>\n",
       "    </tr>\n",
       "    <tr>\n",
       "      <th>1</th>\n",
       "      <td>8gnet9</td>\n",
       "      <td>i found a face in my sheet music too[SEP]That ...</td>\n",
       "      <td>i found a face in my sheet music too</td>\n",
       "      <td>That crescendo part at the top also kind of lo...</td>\n",
       "      <td>0</td>\n",
       "    </tr>\n",
       "    <tr>\n",
       "      <th>2</th>\n",
       "      <td>6d50rl</td>\n",
       "      <td>major thermos[SEP]</td>\n",
       "      <td>major thermos</td>\n",
       "      <td></td>\n",
       "      <td>0</td>\n",
       "    </tr>\n",
       "    <tr>\n",
       "      <th>3</th>\n",
       "      <td>cgp0lmq</td>\n",
       "      <td>cutouts[SEP]</td>\n",
       "      <td>cutouts</td>\n",
       "      <td></td>\n",
       "      <td>0</td>\n",
       "    </tr>\n",
       "    <tr>\n",
       "      <th>4</th>\n",
       "      <td>98vrcq</td>\n",
       "      <td>jesus christ converting local teens to christi...</td>\n",
       "      <td>jesus christ converting local teens to christi...</td>\n",
       "      <td></td>\n",
       "      <td>0</td>\n",
       "    </tr>\n",
       "    <tr>\n",
       "      <th>...</th>\n",
       "      <td>...</td>\n",
       "      <td>...</td>\n",
       "      <td>...</td>\n",
       "      <td>...</td>\n",
       "      <td>...</td>\n",
       "    </tr>\n",
       "    <tr>\n",
       "      <th>14995</th>\n",
       "      <td>cawoo4</td>\n",
       "      <td>the way this creamer settled in my coffee[SEP]...</td>\n",
       "      <td>the way this creamer settled in my coffee</td>\n",
       "      <td>There's clearly a T-Rex nearby, take shelter.[...</td>\n",
       "      <td>1</td>\n",
       "    </tr>\n",
       "    <tr>\n",
       "      <th>14996</th>\n",
       "      <td>2c393j</td>\n",
       "      <td>chewbacca court defence fails[SEP]\"It was orig...</td>\n",
       "      <td>chewbacca court defence fails</td>\n",
       "      <td>\"It was originally used by the defence in the ...</td>\n",
       "      <td>1</td>\n",
       "    </tr>\n",
       "    <tr>\n",
       "      <th>14997</th>\n",
       "      <td>8ytbif</td>\n",
       "      <td>maryland ag probing russian oligarchs purchase...</td>\n",
       "      <td>maryland ag probing russian oligarchs purchase...</td>\n",
       "      <td></td>\n",
       "      <td>1</td>\n",
       "    </tr>\n",
       "    <tr>\n",
       "      <th>14998</th>\n",
       "      <td>3jpezt</td>\n",
       "      <td>lost doll takes a vacation before finding her ...</td>\n",
       "      <td>lost doll takes a vacation before finding her ...</td>\n",
       "      <td>Lucky doll![SEP]</td>\n",
       "      <td>1</td>\n",
       "    </tr>\n",
       "    <tr>\n",
       "      <th>14999</th>\n",
       "      <td>cei9ug</td>\n",
       "      <td>firefighters rescue baby toddler from apartmen...</td>\n",
       "      <td>firefighters rescue baby toddler from apartmen...</td>\n",
       "      <td>First line of the article: “A team of New Mexi...</td>\n",
       "      <td>1</td>\n",
       "    </tr>\n",
       "  </tbody>\n",
       "</table>\n",
       "<p>15000 rows × 5 columns</p>\n",
       "</div>"
      ],
      "text/plain": [
       "            id                                      text_comments  \\\n",
       "0       98pbid  this concerned sink with a tiny hat[SEP]“Does ...   \n",
       "1       8gnet9  i found a face in my sheet music too[SEP]That ...   \n",
       "2       6d50rl                                 major thermos[SEP]   \n",
       "3      cgp0lmq                                       cutouts[SEP]   \n",
       "4       98vrcq  jesus christ converting local teens to christi...   \n",
       "...        ...                                                ...   \n",
       "14995   cawoo4  the way this creamer settled in my coffee[SEP]...   \n",
       "14996   2c393j  chewbacca court defence fails[SEP]\"It was orig...   \n",
       "14997   8ytbif  maryland ag probing russian oligarchs purchase...   \n",
       "14998   3jpezt  lost doll takes a vacation before finding her ...   \n",
       "14999   cei9ug  firefighters rescue baby toddler from apartmen...   \n",
       "\n",
       "                                               text_only  \\\n",
       "0                    this concerned sink with a tiny hat   \n",
       "1                   i found a face in my sheet music too   \n",
       "2                                          major thermos   \n",
       "3                                                cutouts   \n",
       "4      jesus christ converting local teens to christi...   \n",
       "...                                                  ...   \n",
       "14995          the way this creamer settled in my coffee   \n",
       "14996                      chewbacca court defence fails   \n",
       "14997  maryland ag probing russian oligarchs purchase...   \n",
       "14998  lost doll takes a vacation before finding her ...   \n",
       "14999  firefighters rescue baby toddler from apartmen...   \n",
       "\n",
       "                                           comments_only  2_way_label  \n",
       "0      “Does this hat make my head look too big?”[SEP...            0  \n",
       "1      That crescendo part at the top also kind of lo...            0  \n",
       "2                                                                   0  \n",
       "3                                                                   0  \n",
       "4                                                                   0  \n",
       "...                                                  ...          ...  \n",
       "14995  There's clearly a T-Rex nearby, take shelter.[...            1  \n",
       "14996  \"It was originally used by the defence in the ...            1  \n",
       "14997                                                               1  \n",
       "14998                                   Lucky doll![SEP]            1  \n",
       "14999  First line of the article: “A team of New Mexi...            1  \n",
       "\n",
       "[15000 rows x 5 columns]"
      ]
     },
     "execution_count": 18,
     "metadata": {},
     "output_type": "execute_result"
    }
   ],
   "source": [
    "train_csv_file"
   ]
  },
  {
   "cell_type": "code",
   "execution_count": 19,
   "id": "7eacdfb6",
   "metadata": {},
   "outputs": [
    {
     "name": "stderr",
     "output_type": "stream",
     "text": [
      "100%|█████████████████████████████████████████████████████████████████████████████████████████████| 3000/3000 [24:02<00:00,  2.08it/s]\n"
     ]
    }
   ],
   "source": [
    "progress_bar = tqdm(test_data_2_classes.iterrows(), total = len(test_data_2_classes))\n",
    "for idx, row in progress_bar:\n",
    "    comments_only = \"\"\n",
    "    text_comments = \"\"\n",
    "    text_comments += row[\"clean_title\"]\n",
    "    text_comments += \"[SEP]\"\n",
    "    comments_list = search_comments(row[\"id\"])\n",
    "    for each_comment in comments_list:\n",
    "        comments_only += str(each_comment)\n",
    "        comments_only += \"[SEP]\"\n",
    "        text_comments += str(each_comment)\n",
    "        text_comments += \"[SEP]\"\n",
    "        \n",
    "    single_list = [row[\"id\"], text_comments, row[\"clean_title\"], comments_only, \n",
    "                   row[\"2_way_label\"]]\n",
    "    test_csv_list.append(single_list)"
   ]
  },
  {
   "cell_type": "code",
   "execution_count": 20,
   "id": "0fe98d93",
   "metadata": {},
   "outputs": [],
   "source": [
    "test_csv_file = pd.DataFrame(columns = title, data = test_csv_list)\n",
    "test_csv_file.to_csv(base_dir + \"test_data.csv\")"
   ]
  },
  {
   "cell_type": "code",
   "execution_count": 21,
   "id": "47d36c46",
   "metadata": {},
   "outputs": [
    {
     "data": {
      "text/html": [
       "<div>\n",
       "<style scoped>\n",
       "    .dataframe tbody tr th:only-of-type {\n",
       "        vertical-align: middle;\n",
       "    }\n",
       "\n",
       "    .dataframe tbody tr th {\n",
       "        vertical-align: top;\n",
       "    }\n",
       "\n",
       "    .dataframe thead th {\n",
       "        text-align: right;\n",
       "    }\n",
       "</style>\n",
       "<table border=\"1\" class=\"dataframe\">\n",
       "  <thead>\n",
       "    <tr style=\"text-align: right;\">\n",
       "      <th></th>\n",
       "      <th>id</th>\n",
       "      <th>text_comments</th>\n",
       "      <th>text_only</th>\n",
       "      <th>comments_only</th>\n",
       "      <th>2_way_label</th>\n",
       "    </tr>\n",
       "  </thead>\n",
       "  <tbody>\n",
       "    <tr>\n",
       "      <th>0</th>\n",
       "      <td>cozywbv</td>\n",
       "      <td>stargazer[SEP]</td>\n",
       "      <td>stargazer</td>\n",
       "      <td></td>\n",
       "      <td>0</td>\n",
       "    </tr>\n",
       "    <tr>\n",
       "      <th>1</th>\n",
       "      <td>ctk61yw</td>\n",
       "      <td>yeah[SEP]</td>\n",
       "      <td>yeah</td>\n",
       "      <td></td>\n",
       "      <td>0</td>\n",
       "    </tr>\n",
       "    <tr>\n",
       "      <th>2</th>\n",
       "      <td>7o9rmx</td>\n",
       "      <td>believers hezbollah[SEP]Does Hezbollah actuall...</td>\n",
       "      <td>believers hezbollah</td>\n",
       "      <td>Does Hezbollah actually have kit that nice? Ke...</td>\n",
       "      <td>0</td>\n",
       "    </tr>\n",
       "    <tr>\n",
       "      <th>3</th>\n",
       "      <td>bdfxf1</td>\n",
       "      <td>the rise of italian fascism circa[SEP]</td>\n",
       "      <td>the rise of italian fascism circa</td>\n",
       "      <td></td>\n",
       "      <td>0</td>\n",
       "    </tr>\n",
       "    <tr>\n",
       "      <th>4</th>\n",
       "      <td>2s0xuj</td>\n",
       "      <td>look at this cool iphone case i got the other ...</td>\n",
       "      <td>look at this cool iphone case i got the other day</td>\n",
       "      <td>Bath bomb?[SEP]I actually saw a iPhone case ev...</td>\n",
       "      <td>0</td>\n",
       "    </tr>\n",
       "    <tr>\n",
       "      <th>...</th>\n",
       "      <td>...</td>\n",
       "      <td>...</td>\n",
       "      <td>...</td>\n",
       "      <td>...</td>\n",
       "      <td>...</td>\n",
       "    </tr>\n",
       "    <tr>\n",
       "      <th>2995</th>\n",
       "      <td>8xelms</td>\n",
       "      <td>refugee bartender raises funds and provides ai...</td>\n",
       "      <td>refugee bartender raises funds and provides ai...</td>\n",
       "      <td></td>\n",
       "      <td>1</td>\n",
       "    </tr>\n",
       "    <tr>\n",
       "      <th>2996</th>\n",
       "      <td>bgdnq9</td>\n",
       "      <td>this banana came with its own snapchat filter[...</td>\n",
       "      <td>this banana came with its own snapchat filter</td>\n",
       "      <td>That's very appealing[SEP]Well **where the fuc...</td>\n",
       "      <td>1</td>\n",
       "    </tr>\n",
       "    <tr>\n",
       "      <th>2997</th>\n",
       "      <td>bu6bnp</td>\n",
       "      <td>public restroom w foot washing station[SEP]Def...</td>\n",
       "      <td>public restroom w foot washing station</td>\n",
       "      <td>Definitely for our Muslim friends and any othe...</td>\n",
       "      <td>1</td>\n",
       "    </tr>\n",
       "    <tr>\n",
       "      <th>2998</th>\n",
       "      <td>9i16q9</td>\n",
       "      <td>this red box behind a bus that is censoring th...</td>\n",
       "      <td>this red box behind a bus that is censoring th...</td>\n",
       "      <td></td>\n",
       "      <td>1</td>\n",
       "    </tr>\n",
       "    <tr>\n",
       "      <th>2999</th>\n",
       "      <td>6pd9zu</td>\n",
       "      <td>yearold woman arrested after live streaming de...</td>\n",
       "      <td>yearold woman arrested after live streaming de...</td>\n",
       "      <td></td>\n",
       "      <td>1</td>\n",
       "    </tr>\n",
       "  </tbody>\n",
       "</table>\n",
       "<p>3000 rows × 5 columns</p>\n",
       "</div>"
      ],
      "text/plain": [
       "           id                                      text_comments  \\\n",
       "0     cozywbv                                     stargazer[SEP]   \n",
       "1     ctk61yw                                          yeah[SEP]   \n",
       "2      7o9rmx  believers hezbollah[SEP]Does Hezbollah actuall...   \n",
       "3      bdfxf1             the rise of italian fascism circa[SEP]   \n",
       "4      2s0xuj  look at this cool iphone case i got the other ...   \n",
       "...       ...                                                ...   \n",
       "2995   8xelms  refugee bartender raises funds and provides ai...   \n",
       "2996   bgdnq9  this banana came with its own snapchat filter[...   \n",
       "2997   bu6bnp  public restroom w foot washing station[SEP]Def...   \n",
       "2998   9i16q9  this red box behind a bus that is censoring th...   \n",
       "2999   6pd9zu  yearold woman arrested after live streaming de...   \n",
       "\n",
       "                                              text_only  \\\n",
       "0                                             stargazer   \n",
       "1                                                  yeah   \n",
       "2                                   believers hezbollah   \n",
       "3                     the rise of italian fascism circa   \n",
       "4     look at this cool iphone case i got the other day   \n",
       "...                                                 ...   \n",
       "2995  refugee bartender raises funds and provides ai...   \n",
       "2996      this banana came with its own snapchat filter   \n",
       "2997             public restroom w foot washing station   \n",
       "2998  this red box behind a bus that is censoring th...   \n",
       "2999  yearold woman arrested after live streaming de...   \n",
       "\n",
       "                                          comments_only  2_way_label  \n",
       "0                                                                  0  \n",
       "1                                                                  0  \n",
       "2     Does Hezbollah actually have kit that nice? Ke...            0  \n",
       "3                                                                  0  \n",
       "4     Bath bomb?[SEP]I actually saw a iPhone case ev...            0  \n",
       "...                                                 ...          ...  \n",
       "2995                                                               1  \n",
       "2996  That's very appealing[SEP]Well **where the fuc...            1  \n",
       "2997  Definitely for our Muslim friends and any othe...            1  \n",
       "2998                                                               1  \n",
       "2999                                                               1  \n",
       "\n",
       "[3000 rows x 5 columns]"
      ]
     },
     "execution_count": 21,
     "metadata": {},
     "output_type": "execute_result"
    }
   ],
   "source": [
    "test_csv_file"
   ]
  },
  {
   "cell_type": "code",
   "execution_count": null,
   "id": "824e4d86",
   "metadata": {},
   "outputs": [],
   "source": []
  }
 ],
 "metadata": {
  "kernelspec": {
   "display_name": "Python 3 (ipykernel)",
   "language": "python",
   "name": "python3"
  },
  "language_info": {
   "codemirror_mode": {
    "name": "ipython",
    "version": 3
   },
   "file_extension": ".py",
   "mimetype": "text/x-python",
   "name": "python",
   "nbconvert_exporter": "python",
   "pygments_lexer": "ipython3",
   "version": "3.9.15"
  },
  "toc": {
   "base_numbering": "",
   "nav_menu": {},
   "number_sections": false,
   "sideBar": true,
   "skip_h1_title": false,
   "title_cell": "Table of Contents",
   "title_sidebar": "Contents",
   "toc_cell": false,
   "toc_position": {
    "height": "calc(100% - 180px)",
    "left": "10px",
    "top": "150px",
    "width": "288px"
   },
   "toc_section_display": true,
   "toc_window_display": false
  }
 },
 "nbformat": 4,
 "nbformat_minor": 5
}
